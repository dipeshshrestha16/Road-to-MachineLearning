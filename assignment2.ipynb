{
 "cells": [
  {
   "cell_type": "code",
   "execution_count": 3,
   "id": "ca301604",
   "metadata": {},
   "outputs": [
    {
     "name": "stdout",
     "output_type": "stream",
     "text": [
      "Requirement already satisfied: pandas in c:\\users\\user\\anaconda3\\lib\\site-packages (2.2.3)\n",
      "Requirement already satisfied: numpy>=1.26.0 in c:\\users\\user\\anaconda3\\lib\\site-packages (from pandas) (2.1.3)\n",
      "Requirement already satisfied: python-dateutil>=2.8.2 in c:\\users\\user\\appdata\\roaming\\python\\python313\\site-packages (from pandas) (2.9.0.post0)\n",
      "Requirement already satisfied: pytz>=2020.1 in c:\\users\\user\\anaconda3\\lib\\site-packages (from pandas) (2024.1)\n",
      "Requirement already satisfied: tzdata>=2022.7 in c:\\users\\user\\anaconda3\\lib\\site-packages (from pandas) (2025.2)\n",
      "Requirement already satisfied: six>=1.5 in c:\\users\\user\\appdata\\roaming\\python\\python313\\site-packages (from python-dateutil>=2.8.2->pandas) (1.17.0)\n"
     ]
    }
   ],
   "source": [
    "!pip install pandas\n"
   ]
  },
  {
   "cell_type": "markdown",
   "id": "93718af6",
   "metadata": {},
   "source": [
    "1. Write a Python program to read a CSV file named `students.csv` and display \n",
    "the first 5 rows."
   ]
  },
  {
   "cell_type": "code",
   "execution_count": 9,
   "id": "f2d84d99",
   "metadata": {},
   "outputs": [
    {
     "name": "stdout",
     "output_type": "stream",
     "text": [
      "  Student Name  ID Grade\n",
      "0          Ram  23     A\n",
      "1         Hari  12     D\n",
      "2        Shyam  11     B\n",
      "3         Rani  15     C\n",
      "4         Maya  17     A\n"
     ]
    }
   ],
   "source": [
    "\n",
    "#Write a Python program to read a CSV file named `students.csv` and display the first 5 rows\n",
    "import pandas as pd\n",
    "df = pd.read_csv('D:/students.csv')\n",
    "print(df.head(5))"
   ]
  },
  {
   "cell_type": "markdown",
   "id": "9729c95a",
   "metadata": {},
   "source": [
    "2. Given a CSV file `sales.csv` with columns: `Product, Price, Quantity`, write \n",
    "code to calculate the total sales for each product. "
   ]
  },
  {
   "cell_type": "code",
   "execution_count": 12,
   "id": "8653628b",
   "metadata": {},
   "outputs": [
    {
     "name": "stdout",
     "output_type": "stream",
     "text": [
      "Total sales for each product:\n",
      "      Product  Total Sales\n",
      "0  Headphones         3900\n",
      "1      Laptop         6460\n",
      "2       Phone         8570\n",
      "3      Tablet         3080\n"
     ]
    }
   ],
   "source": [
    "#Given a CSV file `sales.csv` with columns: `Product, Price, Quantity`, write code to calculate the total sales for each product\n",
    "df = pd.read_csv('D:/sales.csv')\n",
    "df['Total Sales'] = df['Price'] * df['Quantity']\n",
    "result = df.groupby('Product')['Total Sales'].sum().reset_index()\n",
    "print(\"Total sales for each product:\")\n",
    "print(result)"
   ]
  },
  {
   "cell_type": "markdown",
   "id": "23dac025",
   "metadata": {},
   "source": [
    "3. How do you handle missing values in a CSV file using Pandas? Write code to \n",
    "drop rows with missing values."
   ]
  },
  {
   "cell_type": "code",
   "execution_count": 15,
   "id": "c72cfb51",
   "metadata": {},
   "outputs": [
    {
     "name": "stdout",
     "output_type": "stream",
     "text": [
      "DataFrame after dropping rows with missing values:\n",
      "      Product  Price  Quantity  Total Sales\n",
      "0      Laptop    800         5         4000\n",
      "1      Laptop    820         3         2460\n",
      "2       Phone    500        10         5000\n",
      "3       Phone    510         7         3570\n",
      "4      Tablet    300         6         1800\n",
      "5      Tablet    320         4         1280\n",
      "6  Headphones    100        15         1500\n",
      "7  Headphones    120        20         2400\n"
     ]
    }
   ],
   "source": [
    "# Write code to drop rows with missing values.\n",
    "df_cleaned = df.dropna()\n",
    "print(\"DataFrame after dropping rows with missing values:\")\n",
    "print(df_cleaned)\n",
    "\n"
   ]
  },
  {
   "cell_type": "markdown",
   "id": "8d597330",
   "metadata": {},
   "source": [
    "4. Write a program to read a CSV file `employees.csv` and extract only the \n",
    "`Name` and `Salary` columns"
   ]
  },
  {
   "cell_type": "code",
   "execution_count": 16,
   "id": "f89fb079",
   "metadata": {},
   "outputs": [
    {
     "name": "stdout",
     "output_type": "stream",
     "text": [
      "Name and Salary columns:\n",
      "      Name  Salary\n",
      "0    Alice   50000\n",
      "1      Bob   60000\n",
      "2  Charlie   55000\n",
      "3    Diana   58000\n",
      "4    Ethan   62000\n"
     ]
    }
   ],
   "source": [
    "df = pd.read_csv(\"D:/employees.csv\")\n",
    "result = df[[\"Name\", \"Salary\"]]\n",
    "print(\"Name and Salary columns:\")\n",
    "print(result)\n"
   ]
  },
  {
   "cell_type": "markdown",
   "id": "68bb3199",
   "metadata": {},
   "source": [
    "5. Write code to save a Pandas DataFrame into a CSV file named `output.csv` \n",
    "without the index column. "
   ]
  },
  {
   "cell_type": "code",
   "execution_count": null,
   "id": "d20b790c",
   "metadata": {},
   "outputs": [
    {
     "name": "stdout",
     "output_type": "stream",
     "text": [
      "DataFrame saved to output.csv without index.\n"
     ]
    }
   ],
   "source": [
    "data = {\n",
    "    \"Name\": [\"Laxman\", \"Susan\", \"Pratik\"],\n",
    "    \"Salary\": [50000, 60000, 55000]\n",
    "}\n",
    "df = pd.DataFrame(data)\n",
    "\n",
    "df.to_csv(\"output.csv\", index=False)\n",
    "\n",
    "print(\"DataFrame saved to output.csv without index.\")\n"
   ]
  },
  {
   "cell_type": "markdown",
   "id": "37a32e55",
   "metadata": {},
   "source": [
    "6. Write a NumPy program to create a 1D array of numbers from 10 to 50."
   ]
  },
  {
   "cell_type": "code",
   "execution_count": 23,
   "id": "421a6074",
   "metadata": {},
   "outputs": [
    {
     "name": "stdout",
     "output_type": "stream",
     "text": [
      "1D array from 10 to 50:\n",
      "[10 11 12 13 14 15 16 17 18 19 20 21 22 23 24 25 26 27 28 29 30 31 32 33\n",
      " 34 35 36 37 38 39 40 41 42 43 44 45 46 47 48 49 50]\n"
     ]
    }
   ],
   "source": [
    "#numpy program to create a 1d array of numbers from 10 to 50\n",
    "import numpy as np\n",
    "array_1d = np.arange(10, 51)\n",
    "print(\"1D array from 10 to 50:\")\n",
    "print(array_1d)"
   ]
  },
  {
   "cell_type": "markdown",
   "id": "37896383",
   "metadata": {},
   "source": [
    "7.Write a program to create a 3x3 NumPy array filled with random integers between 1 and 100."
   ]
  },
  {
   "cell_type": "code",
   "execution_count": 24,
   "id": "719c5439",
   "metadata": {},
   "outputs": [
    {
     "name": "stdout",
     "output_type": "stream",
     "text": [
      "3x3 array with random integers between 1 and 100:\n",
      "[[59 84 29]\n",
      " [47 27 43]\n",
      " [18 60 15]]\n"
     ]
    }
   ],
   "source": [
    "array_3x3 = np.random.randint(1, 101, size=(3, 3))\n",
    "print(\"3x3 array with random integers between 1 and 100:\")\n",
    "print(array_3x3)\n"
   ]
  },
  {
   "cell_type": "markdown",
   "id": "85190448",
   "metadata": {},
   "source": [
    "8.Write code to reshape a NumPy array of size 12 into a 3x4 matrix.\n"
   ]
  },
  {
   "cell_type": "code",
   "execution_count": 25,
   "id": "1fd8794a",
   "metadata": {},
   "outputs": [
    {
     "name": "stdout",
     "output_type": "stream",
     "text": [
      "3x4 matrix reshaped from 1D array of size 12:\n",
      "[[ 0  1  2  3]\n",
      " [ 4  5  6  7]\n",
      " [ 8  9 10 11]]\n"
     ]
    }
   ],
   "source": [
    "array_12 = np.arange(12)\n",
    "matrix_3x4 = array_12.reshape(3, 4)\n",
    "print(\"3x4 matrix reshaped from 1D array of size 12:\")\n",
    "print(matrix_3x4)"
   ]
  },
  {
   "cell_type": "markdown",
   "id": "220bf1f2",
   "metadata": {},
   "source": [
    "9. How do you compute the mean, median, and standard deviation of \n",
    "elements in a NumPy array? Show with an example"
   ]
  },
  {
   "cell_type": "code",
   "execution_count": 26,
   "id": "d913b249",
   "metadata": {},
   "outputs": [
    {
     "name": "stdout",
     "output_type": "stream",
     "text": [
      "Mean: 30.0, Median: 30.0, Standard Deviation: 14.142135623730951\n"
     ]
    }
   ],
   "source": [
    "array_example = np.array([10, 20, 30, 40, 50])\n",
    "mean = np.mean(array_example)\n",
    "median = np.median(array_example)\n",
    "std_dev = np.std(array_example)\n",
    "print(f\"Mean: {mean}, Median: {median}, Standard Deviation: {std_dev}\")\n"
   ]
  },
  {
   "cell_type": "markdown",
   "id": "97fe8060",
   "metadata": {},
   "source": [
    "10. Given two NumPy arrays: \n",
    "   \n",
    "   a = np.array([1, 2, 3]) \n",
    "   \n",
    "   b = np.array([4, 5, 6]) \n",
    "   \n",
    "   Write code to perform element-wise addition, subtraction, and dot product. "
   ]
  },
  {
   "cell_type": "code",
   "execution_count": 27,
   "id": "5649be09",
   "metadata": {},
   "outputs": [
    {
     "name": "stdout",
     "output_type": "stream",
     "text": [
      "Element-wise addition: [5 7 9]\n",
      "Element-wise subtraction: [-3 -3 -3]\n",
      "Dot product: 32\n"
     ]
    }
   ],
   "source": [
    "a = np.array([1, 2, 3])\n",
    "b = np.array([4, 5, 6])\n",
    "addition = a + b\n",
    "subtraction = a - b\n",
    "dot_product = np.dot(a, b)\n",
    "print(f\"Element-wise addition: {addition}\")\n",
    "print(f\"Element-wise subtraction: {subtraction}\")\n",
    "print(f\"Dot product: {dot_product}\")\n"
   ]
  }
 ],
 "metadata": {
  "kernelspec": {
   "display_name": "base",
   "language": "python",
   "name": "python3"
  },
  "language_info": {
   "codemirror_mode": {
    "name": "ipython",
    "version": 3
   },
   "file_extension": ".py",
   "mimetype": "text/x-python",
   "name": "python",
   "nbconvert_exporter": "python",
   "pygments_lexer": "ipython3",
   "version": "3.13.5"
  }
 },
 "nbformat": 4,
 "nbformat_minor": 5
}
