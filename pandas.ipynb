{
 "cells": [
  {
   "cell_type": "code",
   "execution_count": 2,
   "id": "c71e9fe2",
   "metadata": {},
   "outputs": [
    {
     "name": "stdout",
     "output_type": "stream",
     "text": [
      "DataFrame saved to output.csv without index.\n"
     ]
    }
   ],
   "source": [
    "data = {\n",
    "    \"Name\": [\"Laxman\", \"Susan\", \"Pratik\"],\n",
    "    \"Salary\": [50000, 60000, 55000]\n",
    "}\n",
    "df = pd.DataFrame(data)\n",
    "\n",
    "df.to_csv(\"datas.csv\", index=False)\n",
    "\n",
    "print(\"DataFrame saved to output.csv without index.\")\n"
   ]
  },
  {
   "cell_type": "code",
   "execution_count": 3,
   "id": "476835aa",
   "metadata": {},
   "outputs": [
    {
     "name": "stdout",
     "output_type": "stream",
     "text": [
      "Name      Susan\n",
      "Salary    60000\n",
      "Name: 1, dtype: object\n"
     ]
    }
   ],
   "source": [
    "#by index\n",
    "print(df.iloc[1])"
   ]
  },
  {
   "cell_type": "code",
   "execution_count": 14,
   "id": "0de3c1b2",
   "metadata": {},
   "outputs": [
    {
     "ename": "NameError",
     "evalue": "name 'l' is not defined",
     "output_type": "error",
     "traceback": [
      "\u001b[31m---------------------------------------------------------------------------\u001b[39m",
      "\u001b[31mNameError\u001b[39m                                 Traceback (most recent call last)",
      "\u001b[36mCell\u001b[39m\u001b[36m \u001b[39m\u001b[32mIn[14]\u001b[39m\u001b[32m, line 2\u001b[39m\n\u001b[32m      1\u001b[39m \u001b[38;5;66;03m#by index position\u001b[39;00m\n\u001b[32m----> \u001b[39m\u001b[32m2\u001b[39m \u001b[38;5;28mprint\u001b[39m(df.loc[\u001b[43ml\u001b[49m])  \u001b[38;5;66;03m# Access the first row\u001b[39;00m\n",
      "\u001b[31mNameError\u001b[39m: name 'l' is not defined"
     ]
    }
   ],
   "source": [
    "#by index position\n",
    "print(df.loc[l])  # Access the first row"
   ]
  },
  {
   "cell_type": "code",
   "execution_count": 5,
   "id": "0bd3ac71",
   "metadata": {},
   "outputs": [],
   "source": [
    "#saving data to a csv file\n",
    "import numpy as np\n",
    "import pandas as pd\n",
    "\n",
    "df.to_csv('datas.csv', index=False)"
   ]
  },
  {
   "cell_type": "code",
   "execution_count": 7,
   "id": "d9696d81",
   "metadata": {},
   "outputs": [
    {
     "name": "stdout",
     "output_type": "stream",
     "text": [
      "     Name  Salary\n",
      "0  Laxman   50000\n",
      "1   Susan   60000\n",
      "2  Pratik   55000\n"
     ]
    }
   ],
   "source": [
    "#read data from csv file\n",
    "df_new = pd.read_csv('datas.csv')\n",
    "print(df_new)\n"
   ]
  },
  {
   "cell_type": "code",
   "execution_count": 8,
   "id": "23dbd0ab",
   "metadata": {},
   "outputs": [],
   "source": [
    "#save to excel file\n",
    "df.to_excel('datas.xlsx', index=False)"
   ]
  },
  {
   "cell_type": "code",
   "execution_count": 21,
   "id": "5eca4bc2",
   "metadata": {},
   "outputs": [],
   "source": [
    "#data cleaning and transformation\n",
    "data = {\n",
    "    \"Name\": [\"Dipesh\", \"Susan\", \"Hari\", \"Pratik\"],\n",
    "    \"Department\": [\"HR\", \"CS\", \"IT\", \"Finance\"],\n",
    "    \"Salary\": [50000, None, 55000, 60000],\n",
    "    \"Age\": [25, 30, 22, 25]\n",
    "}\n",
    "df = pd.DataFrame(data)\n"
   ]
  },
  {
   "cell_type": "code",
   "execution_count": 22,
   "id": "79ea8351",
   "metadata": {},
   "outputs": [
    {
     "data": {
      "text/html": [
       "<div>\n",
       "<style scoped>\n",
       "    .dataframe tbody tr th:only-of-type {\n",
       "        vertical-align: middle;\n",
       "    }\n",
       "\n",
       "    .dataframe tbody tr th {\n",
       "        vertical-align: top;\n",
       "    }\n",
       "\n",
       "    .dataframe thead th {\n",
       "        text-align: right;\n",
       "    }\n",
       "</style>\n",
       "<table border=\"1\" class=\"dataframe\">\n",
       "  <thead>\n",
       "    <tr style=\"text-align: right;\">\n",
       "      <th></th>\n",
       "      <th>Name</th>\n",
       "      <th>Department</th>\n",
       "      <th>Salary</th>\n",
       "      <th>Age</th>\n",
       "    </tr>\n",
       "  </thead>\n",
       "  <tbody>\n",
       "    <tr>\n",
       "      <th>0</th>\n",
       "      <td>Dipesh</td>\n",
       "      <td>HR</td>\n",
       "      <td>50000.0</td>\n",
       "      <td>25</td>\n",
       "    </tr>\n",
       "    <tr>\n",
       "      <th>1</th>\n",
       "      <td>Susan</td>\n",
       "      <td>CS</td>\n",
       "      <td>NaN</td>\n",
       "      <td>30</td>\n",
       "    </tr>\n",
       "    <tr>\n",
       "      <th>2</th>\n",
       "      <td>Hari</td>\n",
       "      <td>IT</td>\n",
       "      <td>55000.0</td>\n",
       "      <td>22</td>\n",
       "    </tr>\n",
       "    <tr>\n",
       "      <th>3</th>\n",
       "      <td>Pratik</td>\n",
       "      <td>Finance</td>\n",
       "      <td>60000.0</td>\n",
       "      <td>25</td>\n",
       "    </tr>\n",
       "  </tbody>\n",
       "</table>\n",
       "</div>"
      ],
      "text/plain": [
       "     Name Department   Salary  Age\n",
       "0  Dipesh         HR  50000.0   25\n",
       "1   Susan         CS      NaN   30\n",
       "2    Hari         IT  55000.0   22\n",
       "3  Pratik    Finance  60000.0   25"
      ]
     },
     "execution_count": 22,
     "metadata": {},
     "output_type": "execute_result"
    }
   ],
   "source": [
    "df"
   ]
  },
  {
   "cell_type": "code",
   "execution_count": 23,
   "id": "0d723098",
   "metadata": {},
   "outputs": [
    {
     "name": "stdout",
     "output_type": "stream",
     "text": [
      "Name          0\n",
      "Department    0\n",
      "Salary        1\n",
      "Age           0\n",
      "dtype: int64\n"
     ]
    },
    {
     "name": "stderr",
     "output_type": "stream",
     "text": [
      "C:\\Users\\user\\AppData\\Local\\Temp\\ipykernel_22600\\1176443752.py:3: FutureWarning: A value is trying to be set on a copy of a DataFrame or Series through chained assignment using an inplace method.\n",
      "The behavior will change in pandas 3.0. This inplace method will never work because the intermediate object on which we are setting values always behaves as a copy.\n",
      "\n",
      "For example, when doing 'df[col].method(value, inplace=True)', try using 'df.method({col: value}, inplace=True)' or df[col] = df[col].method(value) instead, to perform the operation inplace on the original object.\n",
      "\n",
      "\n",
      "  df[\"Salary\"].fillna(df[\"Salary\"].mean(), inplace=True)\n"
     ]
    }
   ],
   "source": [
    "#Handle missing values\n",
    "print(df.isnull().sum())\n",
    "df[\"Salary\"].fillna(df[\"Salary\"].mean(), inplace=True)\n"
   ]
  },
  {
   "cell_type": "code",
   "execution_count": 25,
   "id": "322ebd62",
   "metadata": {},
   "outputs": [
    {
     "data": {
      "text/html": [
       "<div>\n",
       "<style scoped>\n",
       "    .dataframe tbody tr th:only-of-type {\n",
       "        vertical-align: middle;\n",
       "    }\n",
       "\n",
       "    .dataframe tbody tr th {\n",
       "        vertical-align: top;\n",
       "    }\n",
       "\n",
       "    .dataframe thead th {\n",
       "        text-align: right;\n",
       "    }\n",
       "</style>\n",
       "<table border=\"1\" class=\"dataframe\">\n",
       "  <thead>\n",
       "    <tr style=\"text-align: right;\">\n",
       "      <th></th>\n",
       "      <th>Name</th>\n",
       "      <th>Department</th>\n",
       "      <th>Salary</th>\n",
       "      <th>Age</th>\n",
       "    </tr>\n",
       "  </thead>\n",
       "  <tbody>\n",
       "    <tr>\n",
       "      <th>0</th>\n",
       "      <td>Dipesh</td>\n",
       "      <td>HR</td>\n",
       "      <td>50000.0</td>\n",
       "      <td>25</td>\n",
       "    </tr>\n",
       "    <tr>\n",
       "      <th>1</th>\n",
       "      <td>Susan</td>\n",
       "      <td>CS</td>\n",
       "      <td>55000.0</td>\n",
       "      <td>30</td>\n",
       "    </tr>\n",
       "    <tr>\n",
       "      <th>2</th>\n",
       "      <td>Hari</td>\n",
       "      <td>IT</td>\n",
       "      <td>55000.0</td>\n",
       "      <td>22</td>\n",
       "    </tr>\n",
       "    <tr>\n",
       "      <th>3</th>\n",
       "      <td>Pratik</td>\n",
       "      <td>Finance</td>\n",
       "      <td>60000.0</td>\n",
       "      <td>25</td>\n",
       "    </tr>\n",
       "  </tbody>\n",
       "</table>\n",
       "</div>"
      ],
      "text/plain": [
       "     Name Department   Salary  Age\n",
       "0  Dipesh         HR  50000.0   25\n",
       "1   Susan         CS  55000.0   30\n",
       "2    Hari         IT  55000.0   22\n",
       "3  Pratik    Finance  60000.0   25"
      ]
     },
     "execution_count": 25,
     "metadata": {},
     "output_type": "execute_result"
    }
   ],
   "source": [
    "df"
   ]
  },
  {
   "cell_type": "code",
   "execution_count": 27,
   "id": "5e1fc03a",
   "metadata": {},
   "outputs": [],
   "source": [
    "#add a new column\n",
    "df[\"Bonus\"] = df[\"Salary\"] * 0.1"
   ]
  },
  {
   "cell_type": "code",
   "execution_count": 28,
   "id": "765d2a83",
   "metadata": {},
   "outputs": [
    {
     "data": {
      "text/html": [
       "<div>\n",
       "<style scoped>\n",
       "    .dataframe tbody tr th:only-of-type {\n",
       "        vertical-align: middle;\n",
       "    }\n",
       "\n",
       "    .dataframe tbody tr th {\n",
       "        vertical-align: top;\n",
       "    }\n",
       "\n",
       "    .dataframe thead th {\n",
       "        text-align: right;\n",
       "    }\n",
       "</style>\n",
       "<table border=\"1\" class=\"dataframe\">\n",
       "  <thead>\n",
       "    <tr style=\"text-align: right;\">\n",
       "      <th></th>\n",
       "      <th>Name</th>\n",
       "      <th>Department</th>\n",
       "      <th>Salary</th>\n",
       "      <th>Age</th>\n",
       "      <th>Bonus</th>\n",
       "    </tr>\n",
       "  </thead>\n",
       "  <tbody>\n",
       "    <tr>\n",
       "      <th>0</th>\n",
       "      <td>Dipesh</td>\n",
       "      <td>HR</td>\n",
       "      <td>50000.0</td>\n",
       "      <td>25</td>\n",
       "      <td>5000.0</td>\n",
       "    </tr>\n",
       "    <tr>\n",
       "      <th>1</th>\n",
       "      <td>Susan</td>\n",
       "      <td>CS</td>\n",
       "      <td>55000.0</td>\n",
       "      <td>30</td>\n",
       "      <td>5500.0</td>\n",
       "    </tr>\n",
       "    <tr>\n",
       "      <th>2</th>\n",
       "      <td>Hari</td>\n",
       "      <td>IT</td>\n",
       "      <td>55000.0</td>\n",
       "      <td>22</td>\n",
       "      <td>5500.0</td>\n",
       "    </tr>\n",
       "    <tr>\n",
       "      <th>3</th>\n",
       "      <td>Pratik</td>\n",
       "      <td>Finance</td>\n",
       "      <td>60000.0</td>\n",
       "      <td>25</td>\n",
       "      <td>6000.0</td>\n",
       "    </tr>\n",
       "  </tbody>\n",
       "</table>\n",
       "</div>"
      ],
      "text/plain": [
       "     Name Department   Salary  Age   Bonus\n",
       "0  Dipesh         HR  50000.0   25  5000.0\n",
       "1   Susan         CS  55000.0   30  5500.0\n",
       "2    Hari         IT  55000.0   22  5500.0\n",
       "3  Pratik    Finance  60000.0   25  6000.0"
      ]
     },
     "execution_count": 28,
     "metadata": {},
     "output_type": "execute_result"
    }
   ],
   "source": [
    "df"
   ]
  },
  {
   "cell_type": "code",
   "execution_count": 29,
   "id": "76da7ae2",
   "metadata": {},
   "outputs": [
    {
     "name": "stdout",
     "output_type": "stream",
     "text": [
      "Department\n",
      "CS         55000.0\n",
      "Finance    60000.0\n",
      "HR         50000.0\n",
      "IT         55000.0\n",
      "Name: Salary, dtype: float64\n"
     ]
    }
   ],
   "source": [
    "#groupby\n",
    "print(df.groupby(\"Department\")[\"Salary\"].mean())"
   ]
  },
  {
   "cell_type": "code",
   "execution_count": 34,
   "id": "56d813e9",
   "metadata": {},
   "outputs": [
    {
     "name": "stdout",
     "output_type": "stream",
     "text": [
      "Department\n",
      "CS         1\n",
      "Finance    1\n",
      "HR         1\n",
      "IT         1\n",
      "Name: Bonus, dtype: int64\n"
     ]
    }
   ],
   "source": [
    "print(df.groupby(\"Department\")[\"Bonus\"].count())"
   ]
  },
  {
   "cell_type": "code",
   "execution_count": 31,
   "id": "c2f5ff50",
   "metadata": {},
   "outputs": [
    {
     "name": "stdout",
     "output_type": "stream",
     "text": [
      "     Name Department   Salary  Age   Bonus\n",
      "3  Pratik    Finance  60000.0   25  6000.0\n",
      "1   Susan         CS  55000.0   30  5500.0\n",
      "2    Hari         IT  55000.0   22  5500.0\n",
      "0  Dipesh         HR  50000.0   25  5000.0\n"
     ]
    }
   ],
   "source": [
    "#sorting\n",
    "print(df.sort_values(\"Salary\", ascending=False))"
   ]
  },
  {
   "cell_type": "code",
   "execution_count": 39,
   "id": "8650c933",
   "metadata": {},
   "outputs": [
    {
     "name": "stdout",
     "output_type": "stream",
     "text": [
      "   Emp_ID    Name  Salary\n",
      "0     101  Dipesh   50000\n",
      "1     102   Susan   60000\n",
      "2     103    Hari   55000\n"
     ]
    }
   ],
   "source": [
    "#merging dataframes\n",
    "employee =pd.DataFrame({\n",
    "    \"Emp_ID\": [101, 102, 103],\n",
    "    \"Name\": [\"Dipesh\", \"Susan\", \"Hari\"]\n",
    "})\n",
    "\n",
    "salary = pd.DataFrame({\n",
    "    \"Emp_ID\": [101, 102, 103],\n",
    "    \"Salary\": [50000, 60000, 55000]\n",
    "})\n",
    "\n",
    "merged_df = pd.merge(employee, salary, on=\"Emp_ID\")\n",
    "print(merged_df)"
   ]
  },
  {
   "cell_type": "code",
   "execution_count": 41,
   "id": "292202a8",
   "metadata": {},
   "outputs": [
    {
     "name": "stdout",
     "output_type": "stream",
     "text": [
      "   E_id    Name   Salary\n",
      "0   101  Dipesh  50000.0\n",
      "1   102   Susan  60000.0\n",
      "2   103    Hari  55000.0\n",
      "3   104  Pratik      NaN\n"
     ]
    }
   ],
   "source": [
    "\n",
    "#merge\n",
    "emp={\n",
    "    \"E_id\": [101, 102, 103, 104],\n",
    "    \"Name\": [\"Dipesh\", \"Susan\", \"Hari\", \"Pratik\"]\n",
    "}\n",
    "sal = pd.DataFrame({\n",
    "    \"E_id\": [101, 102, 103],    \n",
    "    \"Salary\": [50000, 60000, 55000]\n",
    "})\n",
    "emp_df = pd.DataFrame(emp)\n",
    "merged_df = pd.merge(emp_df, sal, on=\"E_id\", how=\"left\")\n",
    "print(merged_df)"
   ]
  },
  {
   "cell_type": "code",
   "execution_count": null,
   "id": "847f890b",
   "metadata": {},
   "outputs": [],
   "source": [
    "#select two columns\n",
    "print(df[[\"Name\", \"Salary\"]])"
   ]
  },
  {
   "cell_type": "code",
   "execution_count": null,
   "id": "f4b4a7e3",
   "metadata": {},
   "outputs": [],
   "source": [
    "#filtering data from students with age greater than 20\n",
    "print(df[df[\"Age\"] > 25])\n",
    "\n"
   ]
  },
  {
   "cell_type": "code",
   "execution_count": 42,
   "id": "e1763ce1",
   "metadata": {},
   "outputs": [
    {
     "name": "stdout",
     "output_type": "stream",
     "text": [
      "     Name Department   Salary  Age   Bonus\n",
      "3  Pratik    Finance  60000.0   25  6000.0\n",
      "1   Susan         CS  55000.0   30  5500.0\n",
      "2    Hari         IT  55000.0   22  5500.0\n",
      "0  Dipesh         HR  50000.0   25  5000.0\n"
     ]
    }
   ],
   "source": [
    "#sorting\n",
    "print(df.sort_values(\"Salary\", ascending=False))"
   ]
  },
  {
   "cell_type": "code",
   "execution_count": 43,
   "id": "1d5de2d9",
   "metadata": {},
   "outputs": [
    {
     "name": "stdout",
     "output_type": "stream",
     "text": [
      "     Name Department   Salary  Age   Bonus\n",
      "2    Hari         IT  55000.0   22  5500.0\n",
      "0  Dipesh         HR  50000.0   25  5000.0\n",
      "3  Pratik    Finance  60000.0   25  6000.0\n",
      "1   Susan         CS  55000.0   30  5500.0\n"
     ]
    }
   ],
   "source": [
    "print(df.sort_values(\"Age\"))"
   ]
  },
  {
   "cell_type": "code",
   "execution_count": 44,
   "id": "3b74e93d",
   "metadata": {},
   "outputs": [
    {
     "name": "stdout",
     "output_type": "stream",
     "text": [
      "     Name Department   Salary  Age   Bonus  Experience\n",
      "0  Dipesh         HR  50000.0   25  5000.0           2\n",
      "1   Susan         CS  55000.0   30  5500.0           5\n",
      "2    Hari         IT  55000.0   22  5500.0           1\n",
      "3  Pratik    Finance  60000.0   25  6000.0           3\n"
     ]
    }
   ],
   "source": [
    "#adding a column\n",
    "df[\"Experience\"] = [2, 5, 1, 3]\n",
    "print(df)"
   ]
  },
  {
   "cell_type": "code",
   "execution_count": null,
   "id": "1ad87858",
   "metadata": {},
   "outputs": [
    {
     "name": "stdout",
     "output_type": "stream",
     "text": [
      "     Name Department   Salary  Age   Bonus  Experience Experience_Level\n",
      "0  Dipesh         HR  50000.0   25  5000.0           2           Junior\n",
      "1   Susan         CS  55000.0   30  5500.0           5           Senior\n",
      "2    Hari         IT  55000.0   22  5500.0           1           Junior\n",
      "3  Pratik    Finance  60000.0   25  6000.0           3           Senior\n"
     ]
    }
   ],
   "source": [
    "df[\"Experience_Level\"] = np.where(df[\"Experience\"] > 2, \"Senior\", \"Junior\")\n",
    "print(df)"
   ]
  },
  {
   "cell_type": "markdown",
   "id": "5ad2292b",
   "metadata": {},
   "source": [
    "create a dataframe (employee_name, age, salary)\n"
   ]
  },
  {
   "cell_type": "code",
   "execution_count": 49,
   "id": "79bec3ad",
   "metadata": {},
   "outputs": [
    {
     "name": "stdout",
     "output_type": "stream",
     "text": [
      "  Emp_Name    Salary   Age\n",
      "0   Dipesh   50000.0  25.0\n",
      "1    Susan       NaN  30.0\n",
      "2     Hari   85000.0  22.0\n",
      "3   Pratik  100000.0   NaN\n"
     ]
    }
   ],
   "source": [
    "emp_df = pd.DataFrame({\n",
    "    \"Emp_Name\": [\"Dipesh\", \"Susan\", \"Hari\", \"Pratik\"],\n",
    "    \"Salary\": [50000, None, 85000, 100000],\n",
    "    \"Age\": [25, 30, 22, None]\n",
    "})\n",
    "\n",
    "print(emp_df)"
   ]
  },
  {
   "cell_type": "markdown",
   "id": "9625dc21",
   "metadata": {},
   "source": [
    "show first 2 rows, name and age"
   ]
  },
  {
   "cell_type": "code",
   "execution_count": null,
   "id": "6a5a2e58",
   "metadata": {},
   "outputs": [
    {
     "name": "stdout",
     "output_type": "stream",
     "text": [
      "  Emp_Name    Salary   Age Grade\n",
      "0   Dipesh   50000.0  25.0     B\n",
      "1    Susan       NaN  30.0     B\n",
      "2     Hari   85000.0  22.0     A\n",
      "3   Pratik  100000.0   NaN     A\n"
     ]
    }
   ],
   "source": [
    "emp_df[\"Grade\"] = np.where(emp_df[\"Salary\"] > 55000, \"A\", \"B\")\n",
    "print(emp_df)"
   ]
  },
  {
   "cell_type": "markdown",
   "id": "71c8250d",
   "metadata": {},
   "source": [
    "add grade column"
   ]
  },
  {
   "cell_type": "code",
   "execution_count": 51,
   "id": "40ae03e2",
   "metadata": {},
   "outputs": [
    {
     "name": "stdout",
     "output_type": "stream",
     "text": [
      "  Emp_Name    Salary   Age Grade\n",
      "3   Pratik  100000.0   NaN     A\n",
      "2     Hari   85000.0  22.0     A\n",
      "0   Dipesh   50000.0  25.0     B\n",
      "1    Susan       NaN  30.0     B\n"
     ]
    }
   ],
   "source": [
    "print(emp_df.sort_values(\"Salary\", ascending=False))"
   ]
  },
  {
   "cell_type": "markdown",
   "id": "e6351f45",
   "metadata": {},
   "source": [
    "find the average of age\n"
   ]
  },
  {
   "cell_type": "code",
   "execution_count": 52,
   "id": "9952a8af",
   "metadata": {},
   "outputs": [
    {
     "name": "stdout",
     "output_type": "stream",
     "text": [
      "25.666666666666668\n"
     ]
    }
   ],
   "source": [
    "print(emp_df[\"Age\"].mean())"
   ]
  },
  {
   "cell_type": "markdown",
   "id": "bbb6dfcf",
   "metadata": {},
   "source": [
    "select row where salary > 80000\n"
   ]
  },
  {
   "cell_type": "code",
   "execution_count": 53,
   "id": "18ee04f7",
   "metadata": {},
   "outputs": [
    {
     "name": "stdout",
     "output_type": "stream",
     "text": [
      "  Emp_Name    Salary   Age Grade\n",
      "2     Hari   85000.0  22.0     A\n",
      "3   Pratik  100000.0   NaN     A\n"
     ]
    }
   ],
   "source": [
    "print(emp_df[emp_df[\"Salary\"] > 80000])"
   ]
  },
  {
   "cell_type": "markdown",
   "id": "403a28d1",
   "metadata": {},
   "source": [
    "find the youngest age"
   ]
  },
  {
   "cell_type": "code",
   "execution_count": 54,
   "id": "1ac1dd88",
   "metadata": {},
   "outputs": [
    {
     "name": "stdout",
     "output_type": "stream",
     "text": [
      "22.0\n"
     ]
    }
   ],
   "source": [
    "print(emp_df[\"Age\"].min())"
   ]
  },
  {
   "cell_type": "markdown",
   "id": "969af03c",
   "metadata": {},
   "source": [
    "fill missing age with mean"
   ]
  },
  {
   "cell_type": "code",
   "execution_count": 56,
   "id": "9ed41913",
   "metadata": {},
   "outputs": [
    {
     "name": "stdout",
     "output_type": "stream",
     "text": [
      "  Emp_Name    Salary        Age Grade\n",
      "0   Dipesh   50000.0  25.000000     B\n",
      "1    Susan       NaN  30.000000     B\n",
      "2     Hari   85000.0  22.000000     A\n",
      "3   Pratik  100000.0  25.666667     A\n"
     ]
    }
   ],
   "source": [
    "emp_df[\"Age\"].fillna(emp_df[\"Age\"].mean())\n",
    "print(emp_df)\n"
   ]
  },
  {
   "cell_type": "markdown",
   "id": "50e06757",
   "metadata": {},
   "source": [
    "fill missing salary with 0"
   ]
  },
  {
   "cell_type": "code",
   "execution_count": null,
   "id": "4d0902df",
   "metadata": {},
   "outputs": [
    {
     "name": "stdout",
     "output_type": "stream",
     "text": [
      "  Emp_Name    Salary        Age Grade\n",
      "0   Dipesh   50000.0  25.000000     B\n",
      "1    Susan       0.0  30.000000     B\n",
      "2     Hari   85000.0  22.000000     A\n",
      "3   Pratik  100000.0  25.666667     A\n"
     ]
    },
    {
     "name": "stderr",
     "output_type": "stream",
     "text": [
      "C:\\Users\\user\\AppData\\Local\\Temp\\ipykernel_22600\\3429225771.py:2: FutureWarning: A value is trying to be set on a copy of a DataFrame or Series through chained assignment using an inplace method.\n",
      "The behavior will change in pandas 3.0. This inplace method will never work because the intermediate object on which we are setting values always behaves as a copy.\n",
      "\n",
      "For example, when doing 'df[col].method(value, inplace=True)', try using 'df.method({col: value}, inplace=True)' or df[col] = df[col].method(value) instead, to perform the operation inplace on the original object.\n",
      "\n",
      "\n",
      "  emp_df[\"Salary\"].fillna(0, inplace=True)\n"
     ]
    }
   ],
   "source": [
    "emp_df[\"Salary\"].fillna(0, inplace=True)\n",
    "print(emp_df)"
   ]
  },
  {
   "cell_type": "markdown",
   "id": "8670ac9b",
   "metadata": {},
   "source": [
    "write it to the csv."
   ]
  },
  {
   "cell_type": "code",
   "execution_count": 59,
   "id": "af5b7366",
   "metadata": {},
   "outputs": [],
   "source": [
    "emp_df.to_csv(\"employee_data.csv\", index=False)"
   ]
  },
  {
   "cell_type": "code",
   "execution_count": 60,
   "id": "2643bab1",
   "metadata": {},
   "outputs": [
    {
     "name": "stdout",
     "output_type": "stream",
     "text": [
      "  Emp_Name    Salary        Age Grade\n",
      "0   Dipesh   50000.0  25.000000     B\n",
      "1    Susan       0.0  30.000000     B\n",
      "2     Hari   85000.0  22.000000     A\n",
      "3   Pratik  100000.0  25.666667     A\n"
     ]
    }
   ],
   "source": [
    "\n",
    "emp_data = pd.read_csv(\"employee_data.csv\")\n",
    "print(emp_data)"
   ]
  }
 ],
 "metadata": {
  "kernelspec": {
   "display_name": "base",
   "language": "python",
   "name": "python3"
  },
  "language_info": {
   "codemirror_mode": {
    "name": "ipython",
    "version": 3
   },
   "file_extension": ".py",
   "mimetype": "text/x-python",
   "name": "python",
   "nbconvert_exporter": "python",
   "pygments_lexer": "ipython3",
   "version": "3.13.5"
  }
 },
 "nbformat": 4,
 "nbformat_minor": 5
}
