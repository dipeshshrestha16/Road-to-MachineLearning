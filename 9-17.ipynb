{
 "cells": [
  {
   "cell_type": "code",
   "execution_count": 5,
   "id": "48628fc3",
   "metadata": {},
   "outputs": [
    {
     "name": "stdout",
     "output_type": "stream",
     "text": [
      "[0 3 1 2 3]\n",
      "[np.str_('Apple'), np.str_('Green'), np.str_('Red'), np.str_('Yellow')]\n"
     ]
    }
   ],
   "source": [
    "# lab encoder\n",
    "from sklearn.preprocessing import LabelEncoder\n",
    "\n",
    "label=LabelEncoder()\n",
    "colors=['Apple','Yellow','Green','Red', 'Yellow']\n",
    "encoded=label.fit_transform(colors)\n",
    "print(encoded)\n",
    "print(list(label.classes_))"
   ]
  },
  {
   "cell_type": "code",
   "execution_count": null,
   "id": "ec24a525",
   "metadata": {},
   "outputs": [],
   "source": []
  }
 ],
 "metadata": {
  "kernelspec": {
   "display_name": "base",
   "language": "python",
   "name": "python3"
  },
  "language_info": {
   "codemirror_mode": {
    "name": "ipython",
    "version": 3
   },
   "file_extension": ".py",
   "mimetype": "text/x-python",
   "name": "python",
   "nbconvert_exporter": "python",
   "pygments_lexer": "ipython3",
   "version": "3.13.5"
  }
 },
 "nbformat": 4,
 "nbformat_minor": 5
}
