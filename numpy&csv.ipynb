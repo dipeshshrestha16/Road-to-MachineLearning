{
 "cells": [
  {
   "cell_type": "code",
   "execution_count": null,
   "id": "9c0053d8",
   "metadata": {},
   "outputs": [],
   "source": [
    "import csv\n",
    "csv_file = open('data.csv', 'r')\n",
    "csv_reader = csv.reader(csv_file)\n",
    "for row in csv_reader:  \n",
    "    print(row)\n",
    "\n",
    "#write to csv file\n",
    "data=[['Name', 'Age', 'City'],\n",
    "      ['Alice', 30, 'New York'],\n",
    "        ['Bob', 25, 'Los Angeles'],\n",
    "        ['Charlie', 35, 'Chicago']]\n",
    "\n",
    "csv_path = r'D:\\OneDrive\\Desktop'\n",
    "\n",
    "with open(csv_path, 'w', newline='') as file:\n",
    "    writer = csv.writer(file)\n",
    "    writer.writerows(data)\n",
    "    # for row in data:\n",
    "    #     writer.writerow(row)\n",
    "\n"
   ]
  }
 ],
 "metadata": {
  "language_info": {
   "name": "python"
  }
 },
 "nbformat": 4,
 "nbformat_minor": 5
}
