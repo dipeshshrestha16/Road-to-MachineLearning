{
 "cells": [
  {
   "cell_type": "code",
   "execution_count": 1,
   "id": "a1ff50f6",
   "metadata": {},
   "outputs": [
    {
     "data": {
      "text/html": [
       "<div>\n",
       "<style scoped>\n",
       "    .dataframe tbody tr th:only-of-type {\n",
       "        vertical-align: middle;\n",
       "    }\n",
       "\n",
       "    .dataframe tbody tr th {\n",
       "        vertical-align: top;\n",
       "    }\n",
       "\n",
       "    .dataframe thead th {\n",
       "        text-align: right;\n",
       "    }\n",
       "</style>\n",
       "<table border=\"1\" class=\"dataframe\">\n",
       "  <thead>\n",
       "    <tr style=\"text-align: right;\">\n",
       "      <th></th>\n",
       "      <th>YearsExpreience</th>\n",
       "      <th>Salary</th>\n",
       "    </tr>\n",
       "  </thead>\n",
       "  <tbody>\n",
       "    <tr>\n",
       "      <th>0</th>\n",
       "      <td>1</td>\n",
       "      <td>40000</td>\n",
       "    </tr>\n",
       "    <tr>\n",
       "      <th>1</th>\n",
       "      <td>2</td>\n",
       "      <td>50000</td>\n",
       "    </tr>\n",
       "    <tr>\n",
       "      <th>2</th>\n",
       "      <td>3</td>\n",
       "      <td>45000</td>\n",
       "    </tr>\n",
       "    <tr>\n",
       "      <th>3</th>\n",
       "      <td>4</td>\n",
       "      <td>60000</td>\n",
       "    </tr>\n",
       "    <tr>\n",
       "      <th>4</th>\n",
       "      <td>5</td>\n",
       "      <td>65000</td>\n",
       "    </tr>\n",
       "  </tbody>\n",
       "</table>\n",
       "</div>"
      ],
      "text/plain": [
       "   YearsExpreience  Salary\n",
       "0                1   40000\n",
       "1                2   50000\n",
       "2                3   45000\n",
       "3                4   60000\n",
       "4                5   65000"
      ]
     },
     "execution_count": 1,
     "metadata": {},
     "output_type": "execute_result"
    }
   ],
   "source": [
    "import pandas as pd\n",
    "import matplotlib.pyplot as plt\n",
    "from sklearn.linear_model import LinearRegression\n",
    "from sklearn.metrics import mean_absolute_error, mean_squared_error, r2_score\n",
    "\n",
    "data ={\n",
    "    'YearsExpreience':[1,2,3,4,5],\n",
    "    'Salary':[40000,50000,45000,60000,65000]\n",
    "\n",
    "}\n",
    "df =pd.DataFrame(data)\n",
    "df"
   ]
  },
  {
   "cell_type": "code",
   "execution_count": 2,
   "id": "cf6def04",
   "metadata": {},
   "outputs": [],
   "source": [
    "X=df[['YearsExpreience']]\n",
    "y=df['Salary']\n",
    "\n",
    "model=LinearRegression()\n",
    "model.fit(X,y)\n",
    "\n",
    "Y_pred=model.predict(X)\n",
    "\n",
    "mse=mean_squared_error(y,Y_pred)\n",
    "r2_score=r2_score(y,Y_pred)"
   ]
  },
  {
   "cell_type": "code",
   "execution_count": 4,
   "id": "3ad1f62d",
   "metadata": {},
   "outputs": [
    {
     "name": "stdout",
     "output_type": "stream",
     "text": [
      "Intercept: 34000.0\n",
      "Mean Squared Error: 14000000.0\n",
      "Mean Squared Error: 0.8372093023255813\n",
      "Slope 6000.000000000001\n"
     ]
    }
   ],
   "source": [
    "print(\"Intercept:\",model.intercept_)\n",
    "print(\"Mean Squared Error:\",mse)\n",
    "print(\"Mean Squared Error:\",r2_score)\n",
    "print(\"Slope\",model.coef_[0])"
   ]
  },
  {
   "cell_type": "code",
   "execution_count": 5,
   "id": "da69fafd",
   "metadata": {},
   "outputs": [
    {
     "data": {
      "image/png": "[encoded data removed]",
      "text/plain": [
       "<Figure size 640x480 with 1 Axes>"
      ]
     },
     "metadata": {},
     "output_type": "display_data"
    }
   ],
   "source": [
    "#plot\n",
    "plt.scatter(X,y,color='blue')\n",
    "plt.plot(X,Y_pred,color='red')\n",
    "plt.xlabel('Years of Experience')\n",
    "plt.ylabel('Salary')\n",
    "plt.title('Experience vs Salary')\n",
    "plt.show()"
   ]
  },
  {
   "cell_type": "markdown",
   "id": "70e57c1f",
   "metadata": {},
   "source": [
    "### Logistic regression"
   ]
  },
  {
   "cell_type": "code",
   "execution_count": 1,
   "id": "50535ac1",
   "metadata": {},
   "outputs": [],
   "source": [
    "import numpy as np\n",
    "import matplotlib.pyplot as plt\n",
    "import seaborn as sns\n",
    "from sklearn.linear_model import LogisticRegression\n",
    "from sklearn.metrics  import classification_report, confusion_matrix, accuracy_score, precision_recall_curve, precision_score, recall_score, f1_score\n"
   ]
  },
  {
   "cell_type": "code",
   "execution_count": 2,
   "id": "419bdeda",
   "metadata": {},
   "outputs": [
    {
     "name": "stdout",
     "output_type": "stream",
     "text": [
      "Confusion Matrix:\n",
      " [[2 1]\n",
      " [1 2]]\n"
     ]
    }
   ],
   "source": [
    "X =np.array([[1,2],[2,3],[3,1],[4,3],[5,3],[6,2]])\n",
    "\n",
    "y=np.array([1,0,1,0,1,0])\n",
    "\n",
    "model=LogisticRegression()\n",
    "model.fit(X,y)\n",
    "y_pred=model.predict(X)\n",
    "\n",
    "cm = confusion_matrix(y,y_pred)\n",
    "tn,fp,fn,tp =cm.ravel()\n",
    "print(\"Confusion Matrix:\\n\",cm)\n"
   ]
  },
  {
   "cell_type": "code",
   "execution_count": 3,
   "id": "b11f7bd5",
   "metadata": {},
   "outputs": [
    {
     "name": "stdout",
     "output_type": "stream",
     "text": [
      "Predictions trace\n",
      "\n",
      "Email 1: Actual: 1, Predicted: 1\n",
      "Email 2: Actual: 0, Predicted: 1\n",
      "Email 3: Actual: 1, Predicted: 1\n",
      "Email 4: Actual: 0, Predicted: 0\n",
      "Email 5: Actual: 1, Predicted: 0\n",
      "Email 6: Actual: 0, Predicted: 0\n"
     ]
    }
   ],
   "source": [
    "print(\"Predictions trace\\n\")\n",
    "\n",
    "for i in range(len(X)):\n",
    "    print(f\"Email {i+1}: Actual: {y[i]}, Predicted: {y_pred[i]}\")"
   ]
  },
  {
   "cell_type": "code",
   "execution_count": 5,
   "id": "bdd2b9a3",
   "metadata": {},
   "outputs": [
    {
     "name": "stdout",
     "output_type": "stream",
     "text": [
      "\n",
      " True Negative(TN): 2 \n",
      " False Positive(FP): 1 \n",
      " False Negative(FN): 1 \n",
      " True Positive(TP): 2 \n",
      "\n"
     ]
    }
   ],
   "source": [
    "print(f\"\\n True Negative(TN): {tn} \")\n",
    "print(f\" False Positive(FP): {fp} \")\n",
    "print(f\" False Negative(FN): {fn} \")\n",
    "print(f\" True Positive(TP): {tp} \\n\")"
   ]
  },
  {
   "cell_type": "code",
   "execution_count": 6,
   "id": "cc27714e",
   "metadata": {},
   "outputs": [
    {
     "name": "stdout",
     "output_type": "stream",
     "text": [
      "\n",
      " Accuracy: 0.6666666666666666\n",
      " Precision: 0.6666666666666666\n",
      " Recall: 0.6666666666666666\n",
      " F1 Score: 0.6666666666666666\n",
      "\n"
     ]
    }
   ],
   "source": [
    "print(f\"\\n Accuracy: {accuracy_score(y, y_pred)}\")\n",
    "print(f\" Precision: {precision_score(y, y_pred, average='binary')}\")\n",
    "print(f\" Recall: {recall_score(y, y_pred, average='binary')}\")\n",
    "print(f\" F1 Score: {f1_score(y, y_pred, average='binary')}\\n\")"
   ]
  },
  {
   "cell_type": "code",
   "execution_count": 7,
   "id": "3e334e2e",
   "metadata": {},
   "outputs": [
    {
     "name": "stdout",
     "output_type": "stream",
     "text": [
      "\n",
      " Classification Report \n",
      "              precision    recall  f1-score   support\n",
      "\n",
      "    Not Spam       0.67      0.67      0.67         3\n",
      "        Spam       0.67      0.67      0.67         3\n",
      "\n",
      "    accuracy                           0.67         6\n",
      "   macro avg       0.67      0.67      0.67         6\n",
      "weighted avg       0.67      0.67      0.67         6\n",
      "\n"
     ]
    }
   ],
   "source": [
    "print(\"\\n Classification Report \")\n",
    "print(classification_report(y,y_pred, target_names=['Not Spam','Spam']))\n"
   ]
  },
  {
   "cell_type": "code",
   "execution_count": null,
   "id": "b5df6eac",
   "metadata": {},
   "outputs": [],
   "source": []
  }
 ],
 "metadata": {
  "kernelspec": {
   "display_name": "base",
   "language": "python",
   "name": "python3"
  },
  "language_info": {
   "codemirror_mode": {
    "name": "ipython",
    "version": 3
   },
   "file_extension": ".py",
   "mimetype": "text/x-python",
   "name": "python",
   "nbconvert_exporter": "python",
   "pygments_lexer": "ipython3",
   "version": "3.13.5"
  }
 },
 "nbformat": 4,
 "nbformat_minor": 5
}
