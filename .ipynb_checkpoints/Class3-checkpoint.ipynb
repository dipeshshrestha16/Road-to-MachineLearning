{
 "cells": [
  {
   "cell_type": "code",
   "execution_count": 1,
   "id": "ac5308af",
   "metadata": {},
   "outputs": [
    {
     "name": "stdout",
     "output_type": "stream",
     "text": [
      "25 is odd.\n",
      "10 is even.\n",
      "85 is odd.\n",
      "32 is even.\n",
      "48 is even.\n",
      "10 is even.\n",
      "55 is odd.\n",
      "21 is odd.\n",
      "36 is even.\n",
      "42 is even.\n",
      "\n",
      "Total even numbers: 6\n",
      "Total odd numbers: 4\n"
     ]
    }
   ],
   "source": [
    "#python program that takes 10 number from user and counts how many of them are even and how many are odd\n",
    "\n",
    "# Initialize counters\n",
    "even_count = 0 \n",
    "odd_count = 0\n",
    "# Loop to take 10 numbers from the user\n",
    "for i in range(10):\n",
    "    try:\n",
    "        # Input a number from the user\n",
    "        num = int(input(f\"Enter number {i + 1}: \"))\n",
    "        \n",
    "        # Check if the number is even or odd\n",
    "        if num % 2 == 0:\n",
    "            even_count += 1\n",
    "            print(f\"{num} is even.\")\n",
    "\n",
    "        else:\n",
    "            odd_count += 1\n",
    "            print(f\"{num} is odd.\")\n",
    "    except ValueError:\n",
    "        print(\"Invalid input. Please enter an integer.\")\n",
    "\n",
    "print(f\"\\nTotal even numbers: {even_count}\")\n",
    "print(f\"Total odd numbers: {odd_count}\")\n",
    "    "
   ]
  },
  {
   "cell_type": "code",
   "execution_count": 2,
   "id": "ebce6906",
   "metadata": {},
   "outputs": [
    {
     "name": "stdout",
     "output_type": "stream",
     "text": [
      "\n",
      "Positive Numbers: [52.0, 21.0, 0.0]\n",
      "Sum of Positive Numbers: 73.0\n",
      "Average of Positive Numbers: 24.333333333333332\n",
      "Above Average Positive Numbers: [52.0]\n",
      "\n",
      "Negative Numbers: [-9.0, -96.0]\n",
      "Sum of Negative Numbers: -105.0\n",
      "Average of Negative Numbers: -52.5\n",
      "Above Average Negative Numbers: [-9.0]\n"
     ]
    }
   ],
   "source": [
    "# input five positive and negative numbers and find the sum, average and above average of the positive and negative numbers and print them\n",
    "positive_numbers = []\n",
    "negative_numbers = []\n",
    "\n",
    "for i in range(5):\n",
    "    try:\n",
    "        num = float(input(f\"Enter number {i + 1} (positive or negative): \"))\n",
    "        \n",
    "        if num >= 0:\n",
    "            positive_numbers.append(num)\n",
    "        else:\n",
    "            negative_numbers.append(num)\n",
    "    except ValueError:\n",
    "        print(\"Invalid input. Please enter a valid number.\")\n",
    "\n",
    "if positive_numbers:\n",
    "    positive_sum = sum(positive_numbers)\n",
    "    positive_average = positive_sum / len(positive_numbers)\n",
    "    above_average_positive = [num for num in positive_numbers if num > positive_average]\n",
    "    \n",
    "    print(f\"\\nPositive Numbers: {positive_numbers}\")\n",
    "    print(f\"Sum of Positive Numbers: {positive_sum}\")\n",
    "    print(f\"Average of Positive Numbers: {positive_average}\")\n",
    "    print(f\"Above Average Positive Numbers: {above_average_positive}\")\n",
    "\n",
    "if negative_numbers:\n",
    "    negative_sum = sum(negative_numbers)\n",
    "    negative_average = negative_sum / len(negative_numbers)\n",
    "    above_average_negative = [num for num in negative_numbers if num > negative_average]\n",
    "    \n",
    "    print(f\"\\nNegative Numbers: {negative_numbers}\")\n",
    "    print(f\"Sum of Negative Numbers: {negative_sum}\")\n",
    "    print(f\"Average of Negative Numbers: {negative_average}\")\n",
    "    print(f\"Above Average Negative Numbers: {above_average_negative}\")\n",
    "    "
   ]
  },
  {
   "cell_type": "code",
   "execution_count": 3,
   "id": "afe08e3b",
   "metadata": {},
   "outputs": [
    {
     "name": "stdout",
     "output_type": "stream",
     "text": [
      "Enter 5 positive numbers:\n",
      "\n",
      "Enter 5 negative numbers:\n",
      "\n",
      "All Numbers: [85.0, 5.0, 14.0, 36.0, 12.0, -9.0, -6.0, -7.0, -2.0, -9.0]\n",
      "Sum of all numbers: 119.0\n",
      "Average of all numbers: 11.9\n",
      "Above average numbers: [85.0, 14.0, 36.0, 12.0]\n"
     ]
    }
   ],
   "source": [
    "\n",
    "def get_num(count):\n",
    "    num = []\n",
    "    for i in range(count):\n",
    "        while True:\n",
    "            try:\n",
    "                n = float(input(f\"Enter number {i + 1} (positive or negative): \"))\n",
    "                num.append(n)\n",
    "                break\n",
    "            except ValueError:\n",
    "                print(\"Invalid input. Please enter a valid number.\")\n",
    "    return num\n",
    "\n",
    "def cal_num(num):\n",
    "    total = sum(num)\n",
    "    avg = total / len(num) if num else 0\n",
    "    above_avg= [n for n in num if n > avg]\n",
    "    return total, avg, above_avg\n",
    "\n",
    "def main():\n",
    "    print(\"Enter 5 positive numbers:\")\n",
    "    pos = get_num(5)\n",
    "\n",
    "    print(\"\\nEnter 5 negative numbers:\")\n",
    "    neg= get_num(5)\n",
    "\n",
    "    all_num = pos + neg\n",
    "\n",
    "    total, avg, above_avg = cal_num(all_num)\n",
    "\n",
    "    print(f\"\\nAll Numbers: {all_num}\")\n",
    "    print(f\"Sum of all numbers: {total}\")\n",
    "    print(f\"Average of all numbers: {avg}\")\n",
    "    print(f\"Above average numbers: {above_avg}\")\n",
    "\n",
    "if __name__ == \"__main__\":\n",
    "    main()"
   ]
  }
 ],
 "metadata": {
  "kernelspec": {
   "display_name": "base",
   "language": "python",
   "name": "python3"
  },
  "language_info": {
   "codemirror_mode": {
    "name": "ipython",
    "version": 3
   },
   "file_extension": ".py",
   "mimetype": "text/x-python",
   "name": "python",
   "nbconvert_exporter": "python",
   "pygments_lexer": "ipython3",
   "version": "3.13.5"
  }
 },
 "nbformat": 4,
 "nbformat_minor": 5
}
