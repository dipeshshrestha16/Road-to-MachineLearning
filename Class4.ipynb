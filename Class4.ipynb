{
 "cells": [
  {
   "cell_type": "code",
   "execution_count": 2,
   "id": "62cad3e6",
   "metadata": {},
   "outputs": [
    {
     "name": "stdout",
     "output_type": "stream",
     "text": [
      "The list is sorted in ascending order.\n"
     ]
    }
   ],
   "source": [
    "def check_for_sort(list_item):\n",
    "    ascending = descending = True\n",
    "    for i in range(len(list_item) - 1):\n",
    "        if list_item[i] < list_item[i + 1]:\n",
    "            descending = False\n",
    "        elif list_item[i] > list_item[i + 1]:\n",
    "            ascending = False\n",
    "    if ascending:\n",
    "        print(\"The list is sorted in ascending order.\")\n",
    "    elif descending:\n",
    "        print(\"The list is sorted in descending order.\")\n",
    "    else:\n",
    "        print(\"The list is not sorted.\")\n",
    "    \n",
    "def main():\n",
    "    check_for_sort([1, 2, 3, 4, 5])\n",
    "if __name__ == \"__main__\":\n",
    "    main()"
   ]
  },
  {
   "cell_type": "code",
   "execution_count": 4,
   "id": "50c8b53c",
   "metadata": {},
   "outputs": [
    {
     "name": "stdout",
     "output_type": "stream",
     "text": [
      "item to be pushed: 1\n",
      "current stack items are:\n",
      "1\n",
      "item to be pushed: 5\n",
      "current stack items are:\n",
      "1\n",
      "5\n",
      "item to be pushed: 6\n",
      "current stack items are:\n",
      "1\n",
      "5\n",
      "6\n",
      "item to be popped: 6\n",
      "item to be popped: 5\n",
      "item to be popped: 1\n"
     ]
    }
   ],
   "source": [
    "#program to implement stack operators\n",
    "stack = []\n",
    "stack_size = 5\n",
    "def display():\n",
    "    print(\"current stack items are:\")\n",
    "    for item in stack:\n",
    "        print(item)\n",
    "\n",
    "def push(item):\n",
    "    print(\"item to be pushed:\", item)\n",
    "    if len(stack)<stack_size:\n",
    "        stack.append(item)\n",
    "        display()\n",
    "    else:\n",
    "        print(\"stack overflow\")\n",
    "\n",
    "def pop():\n",
    "    if len(stack)>0:\n",
    "        print(\"item to be popped:\", stack.pop())\n",
    "    else:\n",
    "        print(\"stack is empty\")\n",
    "\n",
    "def main():\n",
    "    push(1)\n",
    "    push(5)\n",
    "    push(6)\n",
    "    \n",
    "    pop()\n",
    "    pop()\n",
    "    pop()\n",
    "\n",
    "if __name__ == \"__main__\":\n",
    "    main()\n"
   ]
  },
  {
   "cell_type": "code",
   "execution_count": 5,
   "id": "d09e9d61",
   "metadata": {},
   "outputs": [
    {
     "name": "stdout",
     "output_type": "stream",
     "text": [
      "{'name': 'Ram', 'age': 22, 'courses': ['Maths', 'Computer Science']}\n"
     ]
    }
   ],
   "source": [
    "#usage of dictionary \n",
    "student = {'name': 'Ram', 'age': 22, 'courses': ['Maths', 'Computer Science']}\n",
    "print(student)"
   ]
  },
  {
   "cell_type": "code",
   "execution_count": 7,
   "id": "c21740e6",
   "metadata": {},
   "outputs": [
    {
     "name": "stdout",
     "output_type": "stream",
     "text": [
      "Ram\n",
      "22\n",
      "22\n"
     ]
    }
   ],
   "source": [
    "#accessing the elements of dictionary\n",
    "print(student['name'])\n",
    "print(student.get('age'))\n",
    "print(student['age'])"
   ]
  },
  {
   "cell_type": "code",
   "execution_count": 8,
   "id": "026c6c1c",
   "metadata": {},
   "outputs": [
    {
     "name": "stdout",
     "output_type": "stream",
     "text": [
      "{'name': 'Ram', 'age': 23, 'courses': ['Maths', 'Computer Science']}\n"
     ]
    }
   ],
   "source": [
    "#modifying the elements of dictionary\n",
    "student['age'] = 23\n",
    "print(student)"
   ]
  },
  {
   "cell_type": "code",
   "execution_count": 9,
   "id": "d8a47be6",
   "metadata": {},
   "outputs": [
    {
     "name": "stdout",
     "output_type": "stream",
     "text": [
      "{'name': 'Ram', 'age': 23, 'courses': ['Maths', 'Computer Science'], 'Grade': 'A'}\n"
     ]
    }
   ],
   "source": [
    "#adding new key value pair\n",
    "student['Grade'] = 'A'\n",
    "print(student)"
   ]
  },
  {
   "cell_type": "code",
   "execution_count": 10,
   "id": "14a66e57",
   "metadata": {},
   "outputs": [
    {
     "name": "stdout",
     "output_type": "stream",
     "text": [
      "{1: 1, 2: 4, 3: 9, 4: 16, 5: 25}\n"
     ]
    }
   ],
   "source": [
    "#dictionary Compehension\n",
    "squares = {x: x*x for x in range(1,6)}\n",
    "print(squares)"
   ]
  },
  {
   "cell_type": "code",
   "execution_count": 14,
   "id": "8c88bcca",
   "metadata": {},
   "outputs": [
    {
     "name": "stdout",
     "output_type": "stream",
     "text": [
      "{'CS': {'students': 60, 'head': 'Crest'}, 'IT': {'students': 50, 'head': 'Python'}}\n",
      "Crest\n",
      "Python\n"
     ]
    }
   ],
   "source": [
    "#nested dictionary\n",
    "clg={\n",
    "    \"CS\": {\"students\": 60, \"head\": \"Crest\"},\n",
    "    \"IT\": {\"students\": 50, \"head\": \"Python\"},\n",
    "}\n",
    "print(clg)\n",
    "print(clg['CS']['head'])\n",
    "print(clg.get('IT').get('head'))"
   ]
  },
  {
   "cell_type": "code",
   "execution_count": null,
   "id": "1b61ae61",
   "metadata": {},
   "outputs": [
    {
     "name": "stdout",
     "output_type": "stream",
     "text": [
      "{'a': 1, 'b': 3, 'c': 4}\n"
     ]
    }
   ],
   "source": [
    "#merging of dictionaries\n",
    "dict1 = {'a': 1, 'b': 2}\n",
    "dict2 = {'b': 3, 'c': 4}\n",
    "merged_dict = dict1 | dict2\n",
    "print(merged_dict)"
   ]
  },
  {
   "cell_type": "code",
   "execution_count": 16,
   "id": "89879e26",
   "metadata": {},
   "outputs": [
    {
     "name": "stdout",
     "output_type": "stream",
     "text": [
      "{'hello': 1, 'world': 3, 'welcome': 1, 'to': 1, 'the': 2, 'of': 1, 'python': 2, 'is': 2, 'great': 1, 'and': 1, 'beautiful': 1}\n"
     ]
    }
   ],
   "source": [
    "#python code  to count the number of occurrences of each word in a given sentence using a dictionary\n",
    "def word_count(sentence):\n",
    "    words = sentence.split()\n",
    "    word_freq = {}\n",
    "    for word in words:\n",
    "        word = word.lower().strip('.,!?;\"\\'()[]{}')\n",
    "        if word in word_freq:\n",
    "            word_freq[word] += 1\n",
    "        else:\n",
    "            word_freq[word] = 1\n",
    "    return word_freq\n",
    "\n",
    "def main():\n",
    "    sentence = \"Hello world! Welcome to the world of Python. Python is great, and the world is beautiful.\"\n",
    "    result = word_count(sentence)\n",
    "    print(result)\n",
    "\n",
    "if __name__ == \"__main__\":\n",
    "    main()"
   ]
  },
  {
   "cell_type": "code",
   "execution_count": 30,
   "id": "07f09cdf",
   "metadata": {},
   "outputs": [
    {
     "name": "stdout",
     "output_type": "stream",
     "text": [
      "Student: Ram, Total: 241, Average: 80.33\n",
      "Student: Syam, Total: 256, Average: 85.33\n",
      "Student: Hari, Total: 267, Average: 89.00\n"
     ]
    }
   ],
   "source": [
    "students = [\n",
    "    {'name': 'Ram', 'marks': [73, 90, 78]},\n",
    "    {'name': 'Syam', 'marks': [88, 76, 92]},\n",
    "    {'name': 'Hari', 'marks': [95, 85, 87]},\n",
    "    ]\n",
    "for student in students:\n",
    "    total = sum(student['marks'])\n",
    "    average = total / len(student['marks'])\n",
    "    student['total'] = total\n",
    "    student['average'] = average\n",
    "    print(f\"Student: {student['name']}, Total: {student['total']}, Average: {student['average']:.2f}\")    "
   ]
  },
  {
   "cell_type": "code",
   "execution_count": 39,
   "id": "4086634d",
   "metadata": {},
   "outputs": [
    {
     "name": "stdout",
     "output_type": "stream",
     "text": [
      "Student: Hari, Average: 89.00\n",
      "Student: Syam, Average: 85.33\n",
      "Student: Ram, Average: 80.33\n"
     ]
    }
   ],
   "source": [
    "for student in students:\n",
    "    print(f\"Student: {student['name']}, Average: {student['average']:.2f}\")\n"
   ]
  },
  {
   "cell_type": "code",
   "execution_count": 40,
   "id": "23e55b6b",
   "metadata": {},
   "outputs": [
    {
     "name": "stdout",
     "output_type": "stream",
     "text": [
      "\n",
      "Topper: Hari with Average Marks: 89.00\n"
     ]
    }
   ],
   "source": [
    "topper = max(students, key=lambda x: x['average'])\n",
    "print(f\"\\nTopper: {topper['name']} with Average Marks: {topper['average']:.2f}\")"
   ]
  },
  {
   "cell_type": "code",
   "execution_count": 46,
   "id": "3e01ba27",
   "metadata": {},
   "outputs": [
    {
     "name": "stdout",
     "output_type": "stream",
     "text": [
      "Average of students in descending order:\n",
      "Student: Hari, Average: 89.00\n",
      "Student: Syam, Average: 85.33\n",
      "Student: Ram, Average: 80.33\n"
     ]
    }
   ],
   "source": [
    "students.sort(key=lambda x: x['average'], reverse=True)\n",
    "print(\"Average of students in descending order:\")\n",
    "for student in students:\n",
    "    print(f\"Student: {student['name']}, Average: {student['average']:.2f}\")\n"
   ]
  },
  {
   "cell_type": "code",
   "execution_count": null,
   "id": "dacf4e7a",
   "metadata": {},
   "outputs": [],
   "source": []
  }
 ],
 "metadata": {
  "kernelspec": {
   "display_name": "base",
   "language": "python",
   "name": "python3"
  },
  "language_info": {
   "codemirror_mode": {
    "name": "ipython",
    "version": 3
   },
   "file_extension": ".py",
   "mimetype": "text/x-python",
   "name": "python",
   "nbconvert_exporter": "python",
   "pygments_lexer": "ipython3",
   "version": "3.13.5"
  }
 },
 "nbformat": 4,
 "nbformat_minor": 5
}
