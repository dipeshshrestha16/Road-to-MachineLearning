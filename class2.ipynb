{
 "cells": [
  {
   "cell_type": "code",
   "execution_count": 1,
   "id": "c656bc24",
   "metadata": {},
   "outputs": [
    {
     "name": "stdout",
     "output_type": "stream",
     "text": [
      "Area of trapezium is: 150.0\n"
     ]
    }
   ],
   "source": [
    "#find the area of trapezium using function\n",
    "def area_of_trapezium(a, b, h):\n",
    "    area = 0.5 * (a + b) * h\n",
    "    print(\"Area of trapezium is:\", area)\n",
    "\n",
    "def main():\n",
    "    # Input lengths of the parallel sides and height\n",
    "    a = float(input(\"Enter the length of the first parallel side (a): \"))\n",
    "    b = float(input(\"Enter the length of the second parallel side (b): \"))\n",
    "    h = float(input(\"Enter the height (h): \"))\n",
    "\n",
    "    # Calculate and print the area\n",
    "    area_of_trapezium(a, b, h)\n",
    "if __name__ == \"__main__\":\n",
    "    main()\n",
    "    "
   ]
  },
  {
   "cell_type": "code",
   "execution_count": 2,
   "id": "e2bb587a",
   "metadata": {},
   "outputs": [
    {
     "name": "stdout",
     "output_type": "stream",
     "text": [
      "Area of the circle is: 1963.4954084936207\n",
      "Circumference of the circle is: 157.07963267948966\n"
     ]
    }
   ],
   "source": [
    "\n",
    "import math\n",
    "def circle_area(r):\n",
    "    return math.pi * r * r\n",
    "def circle_circ(r):\n",
    "    return 2 * math.pi * r\n",
    "\n",
    "def main():\n",
    "    r = float(input(\"Enter the radius of the circle: \"))\n",
    "    area = circle_area(r)\n",
    "    circ= circle_circ(r)\n",
    "    print(\"Area of the circle is:\", area)\n",
    "    print(\"Circumference of the circle is:\", circ)\n",
    "\n",
    "if __name__ == \"__main__\":\n",
    "    main()\n"
   ]
  },
  {
   "cell_type": "code",
   "execution_count": 3,
   "id": "53fed324",
   "metadata": {},
   "outputs": [
    {
     "name": "stdout",
     "output_type": "stream",
     "text": [
      "Inner variable: 2\n",
      "Local variable: 5\n",
      "Test variable: 10\n"
     ]
    }
   ],
   "source": [
    "#scope of variables\n",
    "test_variable = 10\n",
    "def test_function():\n",
    "    local_variable = 5\n",
    "    def inner_function():\n",
    "        inner_variable = 2\n",
    "        print(\"Inner variable:\", inner_variable)\n",
    "    inner_function()\n",
    "    print(\"Local variable:\", local_variable)\n",
    "test_function()\n",
    "print(\"Test variable:\", test_variable)"
   ]
  },
  {
   "cell_type": "code",
   "execution_count": null,
   "id": "537db097",
   "metadata": {},
   "outputs": [],
   "source": []
  }
 ],
 "metadata": {
  "kernelspec": {
   "display_name": "base",
   "language": "python",
   "name": "python3"
  },
  "language_info": {
   "codemirror_mode": {
    "name": "ipython",
    "version": 3
   },
   "file_extension": ".py",
   "mimetype": "text/x-python",
   "name": "python",
   "nbconvert_exporter": "python",
   "pygments_lexer": "ipython3",
   "version": "3.13.5"
  }
 },
 "nbformat": 4,
 "nbformat_minor": 5
}
