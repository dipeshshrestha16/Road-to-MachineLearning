{
 "cells": [
  {
   "cell_type": "code",
   "execution_count": 1,
   "id": "a196ac82",
   "metadata": {},
   "outputs": [
    {
     "name": "stdout",
     "output_type": "stream",
     "text": [
      "The maximum of 10 and 25 is 25\n"
     ]
    }
   ],
   "source": [
    "num1=int(input(\"Enter first number: \"))\n",
    "num2=int(input(\"Enter second number: \"))\n",
    "\n",
    "c=max(num1, num2)\n",
    "print(\"The maximum of\", num1, \"and\", num2, \"is\", c)\n"
   ]
  },
  {
   "cell_type": "code",
   "execution_count": 2,
   "id": "4b7e47bb",
   "metadata": {},
   "outputs": [
    {
     "name": "stdout",
     "output_type": "stream",
     "text": [
      "12 is even\n"
     ]
    }
   ],
   "source": [
    "#program to check if the number is even or odd\n",
    "num1=int(input(\"Enter a number: \"))\n",
    "if num1 % 2 == 0:\n",
    "    print(num1, \"is even\")\n",
    "else:\n",
    "    print(num1, \"is odd\")"
   ]
  },
  {
   "cell_type": "code",
   "execution_count": 3,
   "id": "1f45589b",
   "metadata": {},
   "outputs": [
    {
     "name": "stdout",
     "output_type": "stream",
     "text": [
      "85is positive\n"
     ]
    }
   ],
   "source": [
    "#to check if the number is positive, negative or zero\n",
    "\n",
    "num1=int(input(\"Enter a number: \"))\n",
    "if num1 > 0:\n",
    "    print(f\"{num1}is positive\")\n",
    "elif num1 < 0:\n",
    "    print(f\"{num1}is negative\")\n",
    "else:\n",
    "    print(f\"{num1}is zero\")\n",
    "\n",
    "    "
   ]
  },
  {
   "cell_type": "code",
   "execution_count": 4,
   "id": "6719414b",
   "metadata": {},
   "outputs": [
    {
     "name": "stdout",
     "output_type": "stream",
     "text": [
      "D\n"
     ]
    }
   ],
   "source": [
    "#program to prompt the score between 0.1 and 1.0 if score is between 0.0 to 1.0 display the grade\n",
    "score = float(input(\"Enter score between 0.0 and 1.0: \"))\n",
    "if score < 0.0 or score > 1.0:\n",
    "    print(\"Error: Score must be between 0.0 and 1.0\")\n",
    "elif score >= 0.9:\n",
    "    print(\"A\")  \n",
    "elif score >= 0.8:\n",
    "    print(\"B\")\n",
    "elif score >= 0.7:\n",
    "    print(\"C\")\n",
    "elif score >= 0.6:\n",
    "    print(\"D\")\n",
    "else:\n",
    "    print(\"F\")\n"
   ]
  },
  {
   "cell_type": "code",
   "execution_count": 5,
   "id": "9749874b",
   "metadata": {},
   "outputs": [
    {
     "name": "stdout",
     "output_type": "stream",
     "text": [
      "Reversed number: 51\n"
     ]
    }
   ],
   "source": [
    "#program to reverse a number\n",
    "num = int(input(\"Enter a number: \"))\n",
    "reversed_num = 0\n",
    "while num > 0:\n",
    "    digit = num % 10\n",
    "    reversed_num = reversed_num * 10 + digit\n",
    "    num //= 10\n",
    "print(\"Reversed number:\", reversed_num)\n"
   ]
  },
  {
   "cell_type": "code",
   "execution_count": 6,
   "id": "5fa8acd4",
   "metadata": {},
   "outputs": [
    {
     "name": "stdout",
     "output_type": "stream",
     "text": [
      "Reversed number: 258\n"
     ]
    }
   ],
   "source": [
    "num=int(input(\"Enter a number: \"))\n",
    "rev=0\n",
    "while num !=0:\n",
    "    rem=num%10\n",
    "    rev=rev*10+rem\n",
    "    num=num//10\n",
    "print(\"Reversed number:\", rev)"
   ]
  },
  {
   "cell_type": "code",
   "execution_count": 7,
   "id": "241d74c6",
   "metadata": {},
   "outputs": [
    {
     "name": "stdout",
     "output_type": "stream",
     "text": [
      "258\n"
     ]
    }
   ],
   "source": [
    "#python program to reverse a number\n",
    "number=int(input(\"Enter a nuber\"))\n",
    "print(str(number)[::-1])\n",
    "# reverse=0\n",
    "# while number!=0:\n",
    "#     remainder=number%10\n",
    "#     reverse=reverse*10+remainder\n",
    "#     number=number//10\n",
    "# print(f\"Reverse number is{reverse}\")"
   ]
  }
 ],
 "metadata": {
  "kernelspec": {
   "display_name": "base",
   "language": "python",
   "name": "python3"
  },
  "language_info": {
   "codemirror_mode": {
    "name": "ipython",
    "version": 3
   },
   "file_extension": ".py",
   "mimetype": "text/x-python",
   "name": "python",
   "nbconvert_exporter": "python",
   "pygments_lexer": "ipython3",
   "version": "3.13.5"
  }
 },
 "nbformat": 4,
 "nbformat_minor": 5
}
